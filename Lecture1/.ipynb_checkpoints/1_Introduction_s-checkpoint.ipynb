{
 "cells": [
  {
   "cell_type": "markdown",
   "id": "53847c8d-a51d-4ec5-a4da-edda4c657121",
   "metadata": {},
   "source": [
    "# Εισαγωγικά"
   ]
  },
  {
   "cell_type": "markdown",
   "id": "4b2f3cf8-f234-420d-8820-7014a51c3d46",
   "metadata": {},
   "source": [
    "* Ο κώδικας της Python συνήθως εκτελείται σε προγράμματα με κατάληξη \"`.py`\":\n",
    "\n",
    "        myprogram.py\n",
    "\n",
    "* Καθε γραμμή εκτελείται ως εντολή της Python \n",
    "\n",
    "    * Η μόνη εξαίρεση είναι οι γραμμές σχολίων, οι οποίες ξεκινούν με τον χαρακτήρα «#».\n",
    "       Οι γραμμές σχολίων συνήθως αγνοούνται από τον διερμηνέα Python.\n",
    "\n",
    "\n",
    "* Εκτελούνται με την εντολή:\n",
    "\n",
    "        $ python myprogram.py\n",
    "\n",
    "* Εμείς εδώ χρησιμοποιούμε μια πιο διαδραστική προσέγγιση χρησιμοποιώντας το Jupyter notebook και για διδακτικούς λόγους.\n",
    "\n",
    "1. Οι εντολές μπορούν να εκτελεστούν μια-μια (σε αντίθεση με παραπάνω που εκτελούνται όλες μαζί)\n",
    "2. Μπορούμε να φτιάχνουμε όμορφα σχόλια περικλείοντας και latex, Mathtype και επίσης και εικόνες όπως και γραφικά\n",
    "3. Τα αρχεία μας έχουν την κατάληξη .ipynb __Interactive Python Notebook__\n"
   ]
  },
  {
   "cell_type": "markdown",
   "id": "076968ef-fc5a-4685-9d6b-9f2e20c2dbde",
   "metadata": {},
   "source": [
    "# Modules"
   ]
  },
  {
   "cell_type": "markdown",
   "id": "d5d999e4-f241-4f29-b13a-c52b345e9362",
   "metadata": {},
   "source": [
    "Το μεγαλύτερο μέρος της λειτουργικότητας στην Python παρέχεται από τα *modules*. Η Python Standard Library  είναι μια μεγάλη συλλογή λειτουργικών μονάδων που παρέχει *cross-platform* υλοποιήσεις κοινών εγκαταστάσεων όπως πρόσβαση στο λειτουργικό σύστημα, I/O αρχείων, διαχείριση συμβολοσειρών, επικοινωνία δικτύου και πολλά άλλα."
   ]
  },
  {
   "cell_type": "markdown",
   "id": "ac81d034-5900-4791-8974-4ac768812970",
   "metadata": {},
   "source": [
    "Για να χρησιμοποιήσουμε ένα module σε ένα πρόγραμμα της Python, πρέπει πρώτα να το εισάγουμε. Χρησιμοποιώντας τη δήλωση «import». Για παράδειγμα, για να εισαγάγουμε την ενότητα «math», η οποία περιέχει πολλές τυπικές μαθηματικές συναρτήσεις:"
   ]
  },
  {
   "cell_type": "code",
   "execution_count": 1,
   "id": "9731eb7e-f620-46db-aab5-5c34cb02fc38",
   "metadata": {},
   "outputs": [
    {
     "name": "stdout",
     "output_type": "stream",
     "text": [
      "0.9999999999999999\n"
     ]
    }
   ],
   "source": [
    "import math\n",
    "\n",
    "x = math.tan(math.pi/4)\n",
    "\n",
    "print(x)"
   ]
  },
  {
   "cell_type": "markdown",
   "id": "b3e6b441-f9cb-4dbb-ac92-c4f9305b6cea",
   "metadata": {},
   "source": [
    "rer\n"
   ]
  },
  {
   "cell_type": "markdown",
   "id": "513c0d48-2665-4bac-97d5-acef4fa22a44",
   "metadata": {},
   "source": [
    " Συνήθως τις δηλώσεις των modules τις κάνουμε στην αρχή του προγράμματος. Και η παραπάνω εντολή περιλαμβάνει όλα τα στοιχεία του module."
   ]
  },
  {
   "cell_type": "markdown",
   "id": "5a4bd0cf-151e-4b0e-8f64-d7f98e36e23d",
   "metadata": {},
   "source": [
    "Αφού εκτελέσατε την παραπάνω εντολή πηγαίνετε τον κέρσορα αμέσως πριν την παρένθεση και πατήστε Shift + Tab. Τι παρατηρείτε;"
   ]
  },
  {
   "cell_type": "markdown",
   "id": "cc10715e-84d0-44b6-aa6f-375fdba2ce20",
   "metadata": {},
   "source": [
    "Εναλλακτικά, μπορούμε να επιλέξουμε να εισάγουμε όλα τα σύμβολα (συναρτήσεις και μεταβλητές) σε μια λειτουργική μονάδα στο τρέχων namespace, έτσι ώστε να μην χρειάζεται να χρησιμοποιούμε το πρόθεμα \"math.\" κάθε φορά που χρησιμοποιούμε κάτι από την ενότητα \"math\":"
   ]
  },
  {
   "cell_type": "code",
   "execution_count": 2,
   "id": "cfbdbbe0-6add-49a7-b0e1-f97fe2e0195b",
   "metadata": {},
   "outputs": [
    {
     "name": "stdout",
     "output_type": "stream",
     "text": [
      "535.4916555247646\n"
     ]
    }
   ],
   "source": [
    "from math import *\n",
    "\n",
    "x = exp(2 * pi)\n",
    "\n",
    "print(x)"
   ]
  },
  {
   "cell_type": "markdown",
   "id": "63ce2f5d-fee6-4439-be42-5ca0f2957744",
   "metadata": {},
   "source": [
    "Αυτό το μοτίβο μπορεί να είναι πολύ βολικό, αλλά σε μεγάλα προγράμματα που περιλαμβάνουν πολλά modules,\n",
    "είναι συχνά καλή ιδέα να διατηρούνται τα σύμβολα από κάθε ενότητα στα δικά τους namespaces,\n",
    "χρησιμοποιώντας κάτι τέτοιο μπορεί να προκληθεί σύγχυση με ίδια ονόματα symbols σε διαφορετικά modules.\n",
    "\n",
    "\n",
    "Ως τρίτη εναλλακτική μπορούμε να αναφέρουμε ρητά\n",
    "ποια symbols θέλουμε να εισαγάγουμε αντί να χρησιμοποιήσουμε τον χαρακτήρα μπαλαντέρ *"
   ]
  },
  {
   "cell_type": "code",
   "execution_count": 23,
   "id": "d89a3f6f-533a-4315-a367-edfd44a7aa34",
   "metadata": {},
   "outputs": [
    {
     "name": "stdout",
     "output_type": "stream",
     "text": [
      "1.0\n"
     ]
    }
   ],
   "source": [
    "from math import cos, pi\n",
    "\n",
    "x = cos(2 * pi)\n",
    "\n",
    "print(x)"
   ]
  },
  {
   "cell_type": "markdown",
   "id": "1a7f24ea-087d-40c9-b02d-cda63aff069d",
   "metadata": {},
   "source": [
    "## Ποια στοιχεία περιέχονται σε κάθε module"
   ]
  },
  {
   "cell_type": "code",
   "execution_count": 25,
   "id": "bb5ccb97-fe60-4455-a93b-023dd02a88a1",
   "metadata": {},
   "outputs": [
    {
     "name": "stdout",
     "output_type": "stream",
     "text": [
      "['__doc__', '__loader__', '__name__', '__package__', '__spec__', 'acos', 'acosh', 'asin', 'asinh', 'atan', 'atan2', 'atanh', 'cbrt', 'ceil', 'comb', 'copysign', 'cos', 'cosh', 'degrees', 'dist', 'e', 'erf', 'erfc', 'exp', 'exp2', 'expm1', 'fabs', 'factorial', 'floor', 'fmod', 'frexp', 'fsum', 'gamma', 'gcd', 'hypot', 'inf', 'isclose', 'isfinite', 'isinf', 'isnan', 'isqrt', 'lcm', 'ldexp', 'lgamma', 'log', 'log10', 'log1p', 'log2', 'modf', 'nan', 'nextafter', 'perm', 'pi', 'pow', 'prod', 'radians', 'remainder', 'sin', 'sinh', 'sqrt', 'sumprod', 'tan', 'tanh', 'tau', 'trunc', 'ulp']\n"
     ]
    }
   ],
   "source": [
    "import math\n",
    "\n",
    "print(dir(math))"
   ]
  },
  {
   "cell_type": "markdown",
   "id": "10a18008-45e6-4f85-8383-9872f70a04dd",
   "metadata": {},
   "source": [
    "## Άσκηση"
   ]
  },
  {
   "cell_type": "markdown",
   "id": "d679f59c-4fd1-4ef0-b4d4-35673387461b",
   "metadata": {},
   "source": [
    "Δοκιμάστε να χρησιμοποιήσετε 3,4 από τα symbols (συναρτήσεις) της math για εξάσκηση.\n",
    "Π.χ. αποδείξτε αριθμητικά κάποιες από τις σχέσεις:\n",
    "\n",
    "$$\\sin(2x) = 2\\sin(x)\\cos(x)$$\n",
    "$$cos(2x)=cos^2(x)−sin^2(x)$$\n",
    "$$cosh^2(x)−sinh^2(x)=1$$\n"
   ]
  },
  {
   "cell_type": "code",
   "execution_count": 8,
   "id": "d31a8e2a-05b9-480a-bf0d-9f5f7fe2e7a5",
   "metadata": {},
   "outputs": [
    {
     "data": {
      "text/plain": [
       "(1.0, 1.0000000000000002, 1.0)"
      ]
     },
     "execution_count": 8,
     "metadata": {},
     "output_type": "execute_result"
    }
   ],
   "source": [
    "x = pi/4\n",
    "\n",
    "y=sin(2*x)\n",
    "\n",
    "z= 2*sin(x)*cos(x)\n",
    "\n",
    "y,z,v"
   ]
  },
  {
   "cell_type": "code",
   "execution_count": null,
   "id": "a11a8b20-2686-4673-974d-21e93fad8129",
   "metadata": {},
   "outputs": [],
   "source": []
  },
  {
   "cell_type": "code",
   "execution_count": null,
   "id": "c30587df-1224-459b-98ea-52f5c4409c8b",
   "metadata": {},
   "outputs": [],
   "source": []
  },
  {
   "cell_type": "markdown",
   "id": "b66a1fb5-600f-4008-a238-56ee8590c6b9",
   "metadata": {},
   "source": [
    "Αν δεν καταλαβαίνετε τον ορισμό χρησιμοποιήστε το help"
   ]
  },
  {
   "cell_type": "code",
   "execution_count": 9,
   "id": "85c7258f-d9c6-4272-afd1-134d9f038cbd",
   "metadata": {},
   "outputs": [
    {
     "name": "stdout",
     "output_type": "stream",
     "text": [
      "Help on built-in function cos in module math:\n",
      "\n",
      "cos(x, /)\n",
      "    Return the cosine of x (measured in radians).\n",
      "\n"
     ]
    }
   ],
   "source": [
    "help(math.cos)"
   ]
  },
  {
   "cell_type": "markdown",
   "id": "e2272d33-1d5e-4c46-83a2-a3b4f5b743c8",
   "metadata": {},
   "source": [
    "# Μεταβλητές και τύποι δεδομένων"
   ]
  },
  {
   "cell_type": "markdown",
   "id": "c2cb7d5b-9e5e-4abf-87e8-30284df253c6",
   "metadata": {},
   "source": [
    "Τα ονόματα μεταβλητών στην Python μπορούν να περιέχουν αλφαριθμητικούς χαρακτήρες «a-z», «A-Z», «0-9» και ορισμένους ειδικούς χαρακτήρες όπως _. \n",
    "Τα ονόματα των μεταβλητών πρέπει να ξεκινούν με ένα γράμμα.\n",
    "Κατά σύμβαση, τα ονόματα μεταβλητών ξεκινούν με πεζό γράμμα και τα ονόματα κλάσεων με κεφαλαίο. \n",
    "\n",
    "H Python είναι case sensitive γλώσσα. Δηλαδή π.χ μεταβλητές example,Example, ExaMple είναι διαφορετικές μεταξύ τους. \n",
    "\n",
    "\n",
    "Επιπλέον, υπάρχει ένας αριθμός λέξεων-κλειδιών Python που δεν μπορούν να χρησιμοποιηθούν ως ονόματα μεταβλητών. Αυτές οι λέξεις-κλειδιά είναι:\n",
    "\n",
    "    and, as, assert, break, class, continue, def, del, elif, else, except, \n",
    "    exec, finally, for, from, global, if, import, in, is, lambda, not, or,\n",
    "    pass, print, raise, return, try, while, with, yield"
   ]
  },
  {
   "cell_type": "markdown",
   "id": "d9e71a84-b213-4322-9bcb-344e4919d4d1",
   "metadata": {},
   "source": [
    "## Ορισμός μεταβλητών"
   ]
  },
  {
   "cell_type": "code",
   "execution_count": 37,
   "id": "8101373f-8bd2-42bd-b540-f2317c8bb776",
   "metadata": {},
   "outputs": [],
   "source": [
    "# variable assignments\n",
    "x = 1\n",
    "my_var = 16.2"
   ]
  },
  {
   "cell_type": "code",
   "execution_count": 38,
   "id": "ce3cb177-8cbe-419a-8a73-663986fd0301",
   "metadata": {},
   "outputs": [
    {
     "data": {
      "text/plain": [
       "int"
      ]
     },
     "execution_count": 38,
     "metadata": {},
     "output_type": "execute_result"
    }
   ],
   "source": [
    "type(x)"
   ]
  },
  {
   "cell_type": "code",
   "execution_count": 39,
   "id": "3b09b826-4625-463b-9435-13bfb5295886",
   "metadata": {},
   "outputs": [
    {
     "data": {
      "text/plain": [
       "float"
      ]
     },
     "execution_count": 39,
     "metadata": {},
     "output_type": "execute_result"
    }
   ],
   "source": [
    "type(my_var)"
   ]
  },
  {
   "cell_type": "markdown",
   "id": "e3613df4-133a-4f9f-af6d-f7790077d493",
   "metadata": {},
   "source": [
    "## Τύποι μεταβλητών "
   ]
  },
  {
   "cell_type": "code",
   "execution_count": 43,
   "id": "e232abb1-df13-4871-97a9-3310329cae99",
   "metadata": {},
   "outputs": [
    {
     "data": {
      "text/plain": [
       "int"
      ]
     },
     "execution_count": 43,
     "metadata": {},
     "output_type": "execute_result"
    }
   ],
   "source": [
    "# Ακέραιοι integers\n",
    "x = 5\n",
    "type(x)"
   ]
  },
  {
   "cell_type": "code",
   "execution_count": 44,
   "id": "757d243a-ca6c-4796-abd8-6a90237055d7",
   "metadata": {},
   "outputs": [
    {
     "data": {
      "text/plain": [
       "float"
      ]
     },
     "execution_count": 44,
     "metadata": {},
     "output_type": "execute_result"
    }
   ],
   "source": [
    "# Πραγματικοί float\n",
    "y= 3.5678\n",
    "type(y)"
   ]
  },
  {
   "cell_type": "code",
   "execution_count": 45,
   "id": "88741cb1-472b-4407-8a55-240a2efd8bda",
   "metadata": {},
   "outputs": [
    {
     "data": {
      "text/plain": [
       "bool"
      ]
     },
     "execution_count": 45,
     "metadata": {},
     "output_type": "execute_result"
    }
   ],
   "source": [
    "# boolean\n",
    "b1 = True\n",
    "b2 = False\n",
    "\n",
    "type(b1)"
   ]
  },
  {
   "cell_type": "code",
   "execution_count": 50,
   "id": "d383347b-c8ee-43cf-8a8e-20e318aa4dd6",
   "metadata": {},
   "outputs": [
    {
     "data": {
      "text/plain": [
       "complex"
      ]
     },
     "execution_count": 50,
     "metadata": {},
     "output_type": "execute_result"
    }
   ],
   "source": [
    "# complex numbers:προσέξτε τη χρήση του `j` που καθορίζει το φανταστικό μέλος\n",
    "z = 1.0 - 1.0j\n",
    "type(x)"
   ]
  },
  {
   "cell_type": "code",
   "execution_count": 51,
   "id": "9b959a25-304e-489c-947d-fe67d1b58f7c",
   "metadata": {},
   "outputs": [
    {
     "name": "stdout",
     "output_type": "stream",
     "text": [
      "(1-1j)\n"
     ]
    }
   ],
   "source": [
    "print(z)"
   ]
  },
  {
   "cell_type": "code",
   "execution_count": 52,
   "id": "9c1d6ced-95f5-4249-88cb-e30eed13429b",
   "metadata": {},
   "outputs": [
    {
     "name": "stdout",
     "output_type": "stream",
     "text": [
      "1.0 -1.0\n"
     ]
    }
   ],
   "source": [
    "print(z.real, z.imag)"
   ]
  },
  {
   "cell_type": "code",
   "execution_count": 2,
   "id": "d50c9ca1-66a9-4c49-a818-16d6d59736cb",
   "metadata": {},
   "outputs": [
    {
     "ename": "NameError",
     "evalue": "name 'z' is not defined",
     "output_type": "error",
     "traceback": [
      "\u001b[1;31m---------------------------------------------------------------------------\u001b[0m",
      "\u001b[1;31mNameError\u001b[0m                                 Traceback (most recent call last)",
      "Cell \u001b[1;32mIn[2], line 1\u001b[0m\n\u001b[1;32m----> 1\u001b[0m x \u001b[38;5;241m=\u001b[39m \u001b[38;5;28mfloat\u001b[39m(z)\n",
      "\u001b[1;31mNameError\u001b[0m: name 'z' is not defined"
     ]
    }
   ],
   "source": [
    "x = float(z) # Δεν μπορούν να μετατραπούν σε άλλους τύπους"
   ]
  },
  {
   "cell_type": "code",
   "execution_count": 3,
   "id": "c6323999-0a98-477e-abfc-40fea0e190e3",
   "metadata": {},
   "outputs": [
    {
     "name": "stdout",
     "output_type": "stream",
     "text": [
      "Άθροισμα: (4+2j)\n",
      "Διαφορά: (2+6j)\n",
      "Προϊόν: (11-2j)\n",
      "Πηλίκο: (-1+2j)\n",
      "Απόλυτη τιμή του z1: 5.0\n",
      "Συζυγής του z1: (3-4j)\n"
     ]
    }
   ],
   "source": [
    "# Δημιουργία μιγαδικών αριθμών\n",
    "z1 = 3 + 4j  # 3 + 4i\n",
    "z2 = 1 - 2j  # 1 - 2i\n",
    "\n",
    "# Πρόσθεση\n",
    "z_add = z1 + z2\n",
    "print(f\"Άθροισμα: {z_add}\")\n",
    "\n",
    "# Αφαίρεση\n",
    "z_sub = z1 - z2\n",
    "print(f\"Διαφορά: {z_sub}\")\n",
    "\n",
    "# Πολλαπλασιασμός\n",
    "z_mul = z1 * z2\n",
    "print(f\"Πολλαπλασιασμός: {z_mul}\")\n",
    "\n",
    "# Διαίρεση\n",
    "z_div = z1 / z2\n",
    "print(f\"Πηλίκο: {z_div}\")\n",
    "\n",
    "# Μέτρο\n",
    "z_abs = abs(z1)\n",
    "print(f\"Απόλυτη τιμή του z1: {z_abs}\")\n",
    "\n",
    "# Συζυγής\n",
    "z_conjugate = z1.conjugate()\n",
    "print(f\"Συζυγής του z1: {z_conjugate}\")\n"
   ]
  },
  {
   "cell_type": "markdown",
   "id": "9bba8ee7-7762-4783-be0c-0dd98f5f011d",
   "metadata": {},
   "source": [
    "# Πράξεις τελεστών και συγκρίσεις"
   ]
  },
  {
   "cell_type": "markdown",
   "id": "53ba0226-4799-41f7-aeb2-89236191f276",
   "metadata": {},
   "source": [
    "* Αριθμητικοί τελεστές `+`, `-`, `*`, `/`, `//` (ακέραια διαίρεση), '**' ύψωση σε δύναμη"
   ]
  },
  {
   "cell_type": "code",
   "execution_count": null,
   "id": "52b7abaa-294a-420e-96b1-ee1695e1cc8b",
   "metadata": {},
   "outputs": [],
   "source": [
    "1.0 + 2.0, 1.0 - 2.0, 1.0 * 2.0, 1.0 / 2.0"
   ]
  },
  {
   "cell_type": "code",
   "execution_count": 55,
   "id": "d23e445b-d22d-4d56-9373-3eacc4ca18f0",
   "metadata": {},
   "outputs": [
    {
     "data": {
      "text/plain": [
       "1.0"
      ]
     },
     "execution_count": 55,
     "metadata": {},
     "output_type": "execute_result"
    }
   ],
   "source": [
    "# Ακέραια Διαίρεση\n",
    "3.0 // 2.0"
   ]
  },
  {
   "cell_type": "markdown",
   "id": "9ff47610-c3b8-419c-888c-a2c0d27050c7",
   "metadata": {},
   "source": [
    "* Οι  boolean τελεστές είναι οι  `and`, `not`, `or`. "
   ]
  },
  {
   "cell_type": "code",
   "execution_count": 56,
   "id": "eb25ae9c-b3c4-4239-9346-68ebde02c4bd",
   "metadata": {},
   "outputs": [
    {
     "data": {
      "text/plain": [
       "False"
      ]
     },
     "execution_count": 56,
     "metadata": {},
     "output_type": "execute_result"
    }
   ],
   "source": [
    "True and False"
   ]
  },
  {
   "cell_type": "code",
   "execution_count": 57,
   "id": "bd559f26-3190-468e-a34d-5f9239b0366e",
   "metadata": {},
   "outputs": [
    {
     "data": {
      "text/plain": [
       "True"
      ]
     },
     "execution_count": 57,
     "metadata": {},
     "output_type": "execute_result"
    }
   ],
   "source": [
    "not False"
   ]
  },
  {
   "cell_type": "code",
   "execution_count": 58,
   "id": "4e3b5780-d33f-4320-8c7d-0da01b96b026",
   "metadata": {},
   "outputs": [
    {
     "data": {
      "text/plain": [
       "True"
      ]
     },
     "execution_count": 58,
     "metadata": {},
     "output_type": "execute_result"
    }
   ],
   "source": [
    "True or False"
   ]
  },
  {
   "cell_type": "markdown",
   "id": "13af1376-2c30-46e9-a1ad-71617ac1251c",
   "metadata": {},
   "source": [
    "* Τελεστές σύγκρισης `>`, `<`, `>=` (greater or equal), `<=` (less or equal), `==` equality, `is` identical."
   ]
  },
  {
   "cell_type": "code",
   "execution_count": 60,
   "id": "3a8f72ad-c95d-4331-927e-8118ba49369e",
   "metadata": {},
   "outputs": [
    {
     "data": {
      "text/plain": [
       "(True, False)"
      ]
     },
     "execution_count": 60,
     "metadata": {},
     "output_type": "execute_result"
    }
   ],
   "source": [
    "2 > 1, 2 < 1"
   ]
  },
  {
   "cell_type": "code",
   "execution_count": 61,
   "id": "1c8a1b46-7dd0-4ece-b755-59a863c8e897",
   "metadata": {},
   "outputs": [
    {
     "data": {
      "text/plain": [
       "(True, True)"
      ]
     },
     "execution_count": 61,
     "metadata": {},
     "output_type": "execute_result"
    }
   ],
   "source": [
    "2 >= 2, 2 <= 2"
   ]
  },
  {
   "cell_type": "code",
   "execution_count": 62,
   "id": "036d85fa-071b-4b02-8c16-7bed8751f445",
   "metadata": {},
   "outputs": [
    {
     "data": {
      "text/plain": [
       "True"
      ]
     },
     "execution_count": 62,
     "metadata": {},
     "output_type": "execute_result"
    }
   ],
   "source": [
    "# Ελεγχος ισότητας\n",
    "[1,2] == [1,2]"
   ]
  },
  {
   "cell_type": "code",
   "execution_count": 64,
   "id": "4f042ab0-11dc-4b8b-86b8-b8362ed0ebfe",
   "metadata": {},
   "outputs": [
    {
     "data": {
      "text/plain": [
       "True"
      ]
     },
     "execution_count": 64,
     "metadata": {},
     "output_type": "execute_result"
    }
   ],
   "source": [
    "l1 = l2 = [1,2]\n",
    "\n",
    "l1 is l2"
   ]
  },
  {
   "cell_type": "markdown",
   "id": "94af39cf-b93f-4650-8b9e-3aa7b5be015d",
   "metadata": {},
   "source": [
    "## Σύνθετοι τύποι: Strings, Lists και dictionaries"
   ]
  },
  {
   "cell_type": "markdown",
   "id": "7c5728e6-78ec-4030-9f76-4b25ac073880",
   "metadata": {},
   "source": [
    "Τα strings χρησιμοποιούνται συνήθως για αποθήκευση μηνυμάτων κειμένου."
   ]
  },
  {
   "cell_type": "code",
   "execution_count": 65,
   "id": "e372e29e-4b2f-4822-a527-e07199915abe",
   "metadata": {},
   "outputs": [
    {
     "data": {
      "text/plain": [
       "str"
      ]
     },
     "execution_count": 65,
     "metadata": {},
     "output_type": "execute_result"
    }
   ],
   "source": [
    "s = \"Hello world\"\n",
    "type(s)"
   ]
  },
  {
   "cell_type": "code",
   "execution_count": 66,
   "id": "2c0e0e1f-1c2f-4596-838c-ce11362ccca9",
   "metadata": {},
   "outputs": [
    {
     "data": {
      "text/plain": [
       "11"
      ]
     },
     "execution_count": 66,
     "metadata": {},
     "output_type": "execute_result"
    }
   ],
   "source": [
    "# Το μήκος του string: ο αριθμός των χαρακτήρων\n",
    "len(s)"
   ]
  },
  {
   "cell_type": "code",
   "execution_count": 68,
   "id": "07079a33-8bd8-4355-a675-37b1a19afbbc",
   "metadata": {},
   "outputs": [
    {
     "name": "stdout",
     "output_type": "stream",
     "text": [
      "Hello test\n"
     ]
    }
   ],
   "source": [
    "# replace, αντικατάσταση μέρους του string με κάτι άλλο\n",
    "s2 = s.replace(\"world\", \"test\")\n",
    "print(s2)"
   ]
  },
  {
   "cell_type": "markdown",
   "id": "805e09be-c513-4dca-a4ff-ba48bf8155b5",
   "metadata": {},
   "source": [
    "Μπορούμε να εντοπίσουμε χαρακτήρα του string me []. Προσοχή! Η αρίθμηση ξεκινάει από το 0. Μπορούμε να θέσουμε από θεση σε θέση [α:β] , όλες τις θέσεις [:], [::α] όλες τις θέσεις με βήμα α κλπ "
   ]
  },
  {
   "cell_type": "code",
   "execution_count": 75,
   "id": "f48608ed-dae5-4f8f-993d-50ce188aae0e",
   "metadata": {},
   "outputs": [
    {
     "data": {
      "text/plain": [
       "'H'"
      ]
     },
     "execution_count": 75,
     "metadata": {},
     "output_type": "execute_result"
    }
   ],
   "source": [
    "s[0]"
   ]
  },
  {
   "cell_type": "code",
   "execution_count": 76,
   "id": "a0293b8e-de54-4df0-bcd9-859191a057c1",
   "metadata": {},
   "outputs": [
    {
     "data": {
      "text/plain": [
       "'Hello'"
      ]
     },
     "execution_count": 76,
     "metadata": {},
     "output_type": "execute_result"
    }
   ],
   "source": [
    "s[0:5]"
   ]
  },
  {
   "cell_type": "code",
   "execution_count": 77,
   "id": "c7cf71e0-eebf-4886-abb1-2123c2845fd8",
   "metadata": {},
   "outputs": [
    {
     "data": {
      "text/plain": [
       "'o'"
      ]
     },
     "execution_count": 77,
     "metadata": {},
     "output_type": "execute_result"
    }
   ],
   "source": [
    "s[4:5]"
   ]
  },
  {
   "cell_type": "code",
   "execution_count": 78,
   "id": "1c9ecb45-9d0c-475e-a868-e2d2286deba6",
   "metadata": {},
   "outputs": [
    {
     "data": {
      "text/plain": [
       "'Hello world'"
      ]
     },
     "execution_count": 78,
     "metadata": {},
     "output_type": "execute_result"
    }
   ],
   "source": [
    "s[:]"
   ]
  },
  {
   "cell_type": "code",
   "execution_count": 79,
   "id": "f1c56ad9-50a8-4597-8a79-ba677e34bf9c",
   "metadata": {},
   "outputs": [
    {
     "data": {
      "text/plain": [
       "'Hlowrd'"
      ]
     },
     "execution_count": 79,
     "metadata": {},
     "output_type": "execute_result"
    }
   ],
   "source": [
    "s[::2]"
   ]
  },
  {
   "cell_type": "markdown",
   "id": "3d3257d7-fc1e-4f2a-b15f-9941b90550e2",
   "metadata": {},
   "source": [
    "#### Παραδείγματα string formating"
   ]
  },
  {
   "cell_type": "code",
   "execution_count": 81,
   "id": "ad253090-2dd3-423e-8828-af2a66b44e7d",
   "metadata": {},
   "outputs": [
    {
     "name": "stdout",
     "output_type": "stream",
     "text": [
      "str1 str2 str3\n"
     ]
    }
   ],
   "source": [
    "print(\"str1\", \"str2\", \"str3\")  # Εκτυπώνει στην οθόνη συνεχόμενα με κενό"
   ]
  },
  {
   "cell_type": "code",
   "execution_count": 84,
   "id": "75048ad4-0a8f-46c8-a09e-b84d895dbbc6",
   "metadata": {},
   "outputs": [
    {
     "name": "stdout",
     "output_type": "stream",
     "text": [
      "str1 1.0 False (-0-1j)\n"
     ]
    }
   ],
   "source": [
    "print(\"str1\", 1.0, False, -1j)  # Μετατρέπει όλες τις μεταβλητές σε strings"
   ]
  },
  {
   "cell_type": "code",
   "execution_count": 3,
   "id": "99a88870-751a-4db0-b79a-65d11394986a",
   "metadata": {},
   "outputs": [
    {
     "name": "stdout",
     "output_type": "stream",
     "text": [
      "value = 1.00\n"
     ]
    }
   ],
   "source": [
    "print(\"value = %.2f\" % 1.0)       # we can use C-style string formatting"
   ]
  },
  {
   "cell_type": "markdown",
   "id": "5c0e8668-34ef-4848-943e-c75ac5f7bdd9",
   "metadata": {},
   "source": [
    "# Lists"
   ]
  },
  {
   "cell_type": "markdown",
   "id": "f7b292a4-fc97-4209-a60d-09f6c8c2dd07",
   "metadata": {},
   "source": [
    "Οι λίστες (Lists) έχουν παρόμοια λογική με τα strings. Η διαφορά έγκειται στο γεγονός ότι σε μια λίστα μπορούν να αποθηκευτούν διάφοροι τύποι δεδομένων. \n",
    "Δεν επεισέρχοναι μετατροπές όπως στα strings."
   ]
  },
  {
   "cell_type": "code",
   "execution_count": 88,
   "id": "dcb741c6-8cd3-4956-8218-cbb417fc1d92",
   "metadata": {},
   "outputs": [
    {
     "name": "stdout",
     "output_type": "stream",
     "text": [
      "<class 'list'>\n",
      "[1, 2, 3, 4]\n"
     ]
    }
   ],
   "source": [
    "l = [1,2,3,4]\n",
    "\n",
    "print(type(l))\n",
    "print(l)"
   ]
  },
  {
   "cell_type": "code",
   "execution_count": 89,
   "id": "88be913b-ee28-4900-a6df-9725e091131a",
   "metadata": {},
   "outputs": [
    {
     "name": "stdout",
     "output_type": "stream",
     "text": [
      "[1, 'a', 1.0, (1-1j)]\n"
     ]
    }
   ],
   "source": [
    "l = [1, 'a', 1.0, 1-1j]\n",
    "\n",
    "print(l)"
   ]
  },
  {
   "cell_type": "markdown",
   "id": "e4c69039-8701-4a37-a110-b000793ea574",
   "metadata": {},
   "source": [
    "Οι λίστες παίζουν πολύ σημαντικό ρόλο στην Python. Για παράδειγμα χρησιμοποιούνται σε βρόχους και άλλες δομές ελέγχου ροής (συζητούνται παρακάτω). Υπάρχει μια σειρά από βολικές λειτουργίες για τη δημιουργία λιστών διαφόρων τύπων, για παράδειγμα η συνάρτηση range:"
   ]
  },
  {
   "cell_type": "code",
   "execution_count": 14,
   "id": "dbfa4868-a253-45d8-a203-366e9e571963",
   "metadata": {},
   "outputs": [
    {
     "data": {
      "text/plain": [
       "range(10, 30, 2)"
      ]
     },
     "execution_count": 14,
     "metadata": {},
     "output_type": "execute_result"
    }
   ],
   "source": [
    "start = 10\n",
    "stop = 30\n",
    "step = 2\n",
    "\n",
    "range(start, stop, step)"
   ]
  },
  {
   "cell_type": "code",
   "execution_count": 15,
   "id": "97854059-712a-4033-ac56-b0ac54d46c93",
   "metadata": {},
   "outputs": [
    {
     "data": {
      "text/plain": [
       "[-10, -9, -8, -7, -6, -5, -4, -3, -2, -1, 0, 1, 2, 3, 4, 5, 6, 7, 8, 9]"
      ]
     },
     "execution_count": 15,
     "metadata": {},
     "output_type": "execute_result"
    }
   ],
   "source": [
    "list(range(-10, 10))"
   ]
  },
  {
   "cell_type": "markdown",
   "id": "9c89f902-7ca0-46bd-a790-a89800c053d8",
   "metadata": {},
   "source": [
    "#### Δημιουργία, πρόσθεση στοιχείων, μετατροπές, διαγραφές "
   ]
  },
  {
   "cell_type": "code",
   "execution_count": 93,
   "id": "06fbdd13-87d1-4ffd-b336-acc482af1a55",
   "metadata": {},
   "outputs": [
    {
     "name": "stdout",
     "output_type": "stream",
     "text": [
      "['A', 'd', 'd']\n"
     ]
    }
   ],
   "source": [
    "# Δημιουργία λίστας\n",
    "l = []\n",
    "\n",
    "# προσθήκη στοιχείων με την `append`\n",
    "l.append(\"A\")\n",
    "l.append(\"d\")\n",
    "l.append(\"d\")\n",
    "\n",
    "print(l)"
   ]
  },
  {
   "cell_type": "code",
   "execution_count": 94,
   "id": "aaf1382a-3e26-43db-b968-b1fc2435551f",
   "metadata": {},
   "outputs": [
    {
     "name": "stdout",
     "output_type": "stream",
     "text": [
      "['A', 'p', 'p']\n"
     ]
    }
   ],
   "source": [
    "l[1] = \"p\"\n",
    "l[2] = \"p\"\n",
    "\n",
    "print(l)"
   ]
  },
  {
   "cell_type": "code",
   "execution_count": 95,
   "id": "83b69c5e-1c5d-4ff6-8ed5-489a00123ba0",
   "metadata": {},
   "outputs": [
    {
     "name": "stdout",
     "output_type": "stream",
     "text": [
      "['A', 'd', 'd']\n"
     ]
    }
   ],
   "source": [
    "l[1:3] = [\"d\", \"d\"]\n",
    "\n",
    "print(l)"
   ]
  },
  {
   "cell_type": "code",
   "execution_count": 96,
   "id": "3c301345-9891-46ea-a905-aeccd01d0188",
   "metadata": {},
   "outputs": [
    {
     "name": "stdout",
     "output_type": "stream",
     "text": [
      "['i', 'n', 's', 'e', 'r', 't', 'A', 'd', 'd']\n"
     ]
    }
   ],
   "source": [
    "l.insert(0, \"i\")\n",
    "l.insert(1, \"n\")\n",
    "l.insert(2, \"s\")\n",
    "l.insert(3, \"e\")\n",
    "l.insert(4, \"r\")\n",
    "l.insert(5, \"t\")\n",
    "\n",
    "print(l)"
   ]
  },
  {
   "cell_type": "code",
   "execution_count": null,
   "id": "605dfcd3-31c0-46e3-8122-e096ce19e74f",
   "metadata": {},
   "outputs": [],
   "source": [
    "l.remove(\"A\")\n",
    "\n",
    "print(l)"
   ]
  },
  {
   "cell_type": "code",
   "execution_count": 97,
   "id": "3ef49ef4-e25e-42a3-aff5-db36600d654f",
   "metadata": {},
   "outputs": [
    {
     "name": "stdout",
     "output_type": "stream",
     "text": [
      "['i', 'n', 's', 'e', 'r', 't', 'd']\n"
     ]
    }
   ],
   "source": [
    "del l[7]\n",
    "del l[6]\n",
    "\n",
    "print(l)"
   ]
  },
  {
   "cell_type": "markdown",
   "id": "79586443-e678-4410-91e1-83ddfe805337",
   "metadata": {},
   "source": [
    "# Tuples (Πλειάδες)"
   ]
  },
  {
   "cell_type": "markdown",
   "id": "1aa70ca0-a894-49a7-a089-c9cf1c443ec2",
   "metadata": {},
   "source": [
    "Οι πλειάδες (tuples) είναι παρόμοιες με τις λίστες, με τη διαφορά ότι δεν μπορούν να τροποποιηθούν μόλις δημιουργηθούν, δηλαδή είναι *αμετάβλητες*. \n",
    "\n",
    "Στην Python, οι πλειάδες δημιουργούνται χρησιμοποιώντας τη σύνταξη \"(..., ..., ...)\" ή ακόμα και \"..., ...\":"
   ]
  },
  {
   "cell_type": "code",
   "execution_count": 12,
   "id": "aea0bea1-1071-4aa3-94d6-65bd7efa6264",
   "metadata": {},
   "outputs": [
    {
     "name": "stdout",
     "output_type": "stream",
     "text": [
      "(3, 1, 0, -0.5) <class 'tuple'>\n"
     ]
    }
   ],
   "source": [
    "quantum_state = (3, 1, 0, -0.5)  # (κύριος, δευτερεύων, μαγνητικός, σπιν)\n",
    "\n",
    "print(quantum_state, type(quantum_state))"
   ]
  },
  {
   "cell_type": "markdown",
   "id": "5e279b03-8315-4750-8e1c-f4076ec01714",
   "metadata": {},
   "source": [
    "Μπορούμε να αναπτύξουμε μια πλειάδα αναθέτωντάς την σε λίστα μεταβλητών διαχωριζόμενη από κόμματα :"
   ]
  },
  {
   "cell_type": "code",
   "execution_count": 13,
   "id": "20ae8024-9500-4656-a48b-11df52e1c5c3",
   "metadata": {},
   "outputs": [
    {
     "name": "stdout",
     "output_type": "stream",
     "text": [
      "n = 3\n",
      "m = 1\n",
      "l = 0\n",
      "s = -0.5\n"
     ]
    }
   ],
   "source": [
    "n, m, l, s= quantum_state\n",
    "\n",
    "print(\"n =\", n)\n",
    "print(\"m =\", m)\n",
    "print(\"l =\", l)\n",
    "print(\"s =\", s)"
   ]
  },
  {
   "cell_type": "markdown",
   "id": "cb78415b-6d39-4a36-bcec-daca49854f12",
   "metadata": {},
   "source": [
    "Προσπαθήστε να ορίσετε μια καινούργια τιμή στην δεύτερη μεταβλητή της πλειάδας. (Προσοχή ξεκινάμε από το 0!). Τι παρατηρείτε;"
   ]
  },
  {
   "cell_type": "code",
   "execution_count": 33,
   "id": "f4f5fda8-80a2-45d9-815c-0de5c661cc54",
   "metadata": {},
   "outputs": [
    {
     "ename": "TypeError",
     "evalue": "'tuple' object does not support item assignment",
     "output_type": "error",
     "traceback": [
      "\u001b[1;31m---------------------------------------------------------------------------\u001b[0m",
      "\u001b[1;31mTypeError\u001b[0m                                 Traceback (most recent call last)",
      "Cell \u001b[1;32mIn[33], line 1\u001b[0m\n\u001b[1;32m----> 1\u001b[0m quantum_state[\u001b[38;5;241m1\u001b[39m]\u001b[38;5;241m=\u001b[39m\u001b[38;5;241m0\u001b[39m\n",
      "\u001b[1;31mTypeError\u001b[0m: 'tuple' object does not support item assignment"
     ]
    }
   ],
   "source": []
  },
  {
   "cell_type": "markdown",
   "id": "7aa22825-e35b-4a12-a530-8f4b4b6eba65",
   "metadata": {},
   "source": [
    "# Dictionaries (Λεξικά)"
   ]
  },
  {
   "cell_type": "markdown",
   "id": "67be74e2-fcec-471c-922a-abdbed7da89d",
   "metadata": {},
   "source": [
    "Τα λεξικά είναι επίσης σαν τις λίστες, με τη διαφορά ότι κάθε στοιχείο ενός dictionary αποτελεί ένα ζεύγος κλειδιού-τιμής. \n",
    "Η σύνταξη για τα λεξικά είναι `{key1 : value1, ...}`:"
   ]
  },
  {
   "cell_type": "code",
   "execution_count": 28,
   "id": "996282d7-25db-4948-86a1-8d49316a5602",
   "metadata": {},
   "outputs": [
    {
     "name": "stdout",
     "output_type": "stream",
     "text": [
      "<class 'dict'>\n",
      "{'name': 'Υδρογόνο', 'symbol': 'H', 'atomic_number': 1, 'quantum_state': (1, 0, 0, 0.5)}\n"
     ]
    }
   ],
   "source": [
    "element_properties = {\n",
    "    \"name\": \"Hydrogen\",\n",
    "    \"symbol\": \"H\",\n",
    "    \"atomic_number\": 1,\n",
    "    \"quantum_state\": (1, 0, 0, 0.5)  # Κβαντικοί αριθμοί για το μοναδικό ηλεκτρόνιο\n",
    "}\n",
    "\n",
    "print(type(element_properties))\n",
    "print(element_properties)"
   ]
  },
  {
   "cell_type": "code",
   "execution_count": 29,
   "id": "fc516c81-31c2-4a14-9ecc-2dabb8616339",
   "metadata": {},
   "outputs": [
    {
     "name": "stdout",
     "output_type": "stream",
     "text": [
      "name = Υδρογόνο\n",
      "symbol = H\n",
      "atomic_number = 1\n"
     ]
    }
   ],
   "source": [
    "print(\"name = \" + str(element_properties[\"name\"]))\n",
    "print(\"symbol = \" + str(element_properties[\"symbol\"]))\n",
    "print(\"atomic_number = \" + str(element_properties[\"atomic_number\"]))"
   ]
  },
  {
   "cell_type": "code",
   "execution_count": 30,
   "id": "8d705256-f779-49a8-92da-c7612c8a0797",
   "metadata": {},
   "outputs": [
    {
     "name": "stdout",
     "output_type": "stream",
     "text": [
      "element_properties = Lithium\n",
      "element_properties = Li\n",
      "element_properties = 3\n",
      "element_properties = (2, 0, 0, 0.5)\n",
      "element_properties = False\n"
     ]
    }
   ],
   "source": [
    "element_properties[\"name\"] = \"Lithium\"\n",
    "element_properties[\"symbol\"] = \"Li\"\n",
    "element_properties[\"atomic_number\"] = 3\n",
    "element_properties[\"quantum_state\"] = (2, 0, 0, 0.5)\n",
    "\n",
    "# Προσθήκη καινούργιας μεταβλητής\n",
    "element_properties[\"excited_state\"] = False  # Νέο 5ο στοιχείο\n",
    "\n",
    "print(\"element_properties = \" + str(element_properties[\"name\"]))\n",
    "print(\"element_properties = \" + str(element_properties[\"symbol\"]))\n",
    "print(\"element_properties = \" + str(element_properties[\"atomic_number\"]))\n",
    "print(\"element_properties = \" + str(element_properties[\"quantum_state\"]))\n",
    "print(\"element_properties = \" + str(element_properties[\"excited_state\"]))"
   ]
  },
  {
   "cell_type": "markdown",
   "id": "242a000a-de70-4f3b-bf65-7424d2d3fed1",
   "metadata": {},
   "source": [
    "Προσπαθήστε να εξάγετε την τιμή του σπιν σε μια μεταβλητή. Πως θα γίνει;"
   ]
  },
  {
   "cell_type": "code",
   "execution_count": 31,
   "id": "c9d8c14d-de0c-4238-8e1a-0bb2161cf845",
   "metadata": {},
   "outputs": [],
   "source": []
  },
  {
   "cell_type": "code",
   "execution_count": 32,
   "id": "86dafa28-e307-4097-99bf-105fc05c5747",
   "metadata": {},
   "outputs": [
    {
     "data": {
      "text/plain": [
       "0.5"
      ]
     },
     "execution_count": 32,
     "metadata": {},
     "output_type": "execute_result"
    }
   ],
   "source": [
    "spin"
   ]
  }
 ],
 "metadata": {
  "kernelspec": {
   "display_name": "Python 3 (ipykernel)",
   "language": "python",
   "name": "python3"
  },
  "language_info": {
   "codemirror_mode": {
    "name": "ipython",
    "version": 3
   },
   "file_extension": ".py",
   "mimetype": "text/x-python",
   "name": "python",
   "nbconvert_exporter": "python",
   "pygments_lexer": "ipython3",
   "version": "3.12.7"
  }
 },
 "nbformat": 4,
 "nbformat_minor": 5
}
